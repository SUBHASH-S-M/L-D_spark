{
 "cells": [
  {
   "cell_type": "markdown",
   "metadata": {
    "application/vnd.databricks.v1+cell": {
     "cellMetadata": {},
     "inputWidgets": {},
     "nuid": "8ece52f4-63cb-4273-837a-dac94b31d442",
     "showTitle": false,
     "title": ""
    }
   },
   "source": [
    "###SCD"
   ]
  },
  {
   "cell_type": "code",
   "execution_count": 0,
   "metadata": {
    "application/vnd.databricks.v1+cell": {
     "cellMetadata": {
      "byteLimit": 2048000,
      "rowLimit": 10000
     },
     "inputWidgets": {},
     "nuid": "ff79ea1b-73bc-4eea-a6e4-269020bba2db",
     "showTitle": false,
     "title": ""
    }
   },
   "outputs": [],
   "source": [
    "from pyspark.sql.types import StructType, StringType, StructField\n",
    "from pyspark.sql.functions import row_number\n",
    "from pyspark.sql.window import Window\n",
    "from pyspark.sql.functions import when\n",
    "\n"
   ]
  },
  {
   "cell_type": "markdown",
   "metadata": {
    "application/vnd.databricks.v1+cell": {
     "cellMetadata": {},
     "inputWidgets": {},
     "nuid": "a0ae4f11-c966-493f-9f60-8ba2c08096af",
     "showTitle": false,
     "title": ""
    }
   },
   "source": [
    "#### soruce dataframe"
   ]
  },
  {
   "cell_type": "code",
   "execution_count": 0,
   "metadata": {
    "application/vnd.databricks.v1+cell": {
     "cellMetadata": {
      "byteLimit": 2048000,
      "rowLimit": 10000
     },
     "inputWidgets": {},
     "nuid": "a6f4349c-89b6-44af-99ea-3f4538f0e3d4",
     "showTitle": false,
     "title": ""
    }
   },
   "outputs": [
    {
     "output_type": "stream",
     "name": "stdout",
     "output_type": "stream",
     "text": [
      "[('I', '1', '2', '3', '4', '2024-02-12 16:24:43.850171'), ('D', '1', '2', '3', '4', '2024-02-12 16:24:44.851150'), ('D', '4', '5', '6', '7', '2024-02-12 16:24:45.852206'), ('u', '8', '9', '10', '12', '2024-02-12 16:24:46.853262'), ('D', '8', '9', '10', '12', '2024-02-12 16:24:47.854316'), ('I', '11', '12', '13', '14', '2024-02-12 16:24:48.855368'), ('D', '', '', '', '', '2024-02-12 16:24:49.855798')]\n"
     ]
    },
    {
     "output_type": "display_data",
     "data": {
      "text/html": [
       "<style scoped>\n",
       "  .table-result-container {\n",
       "    max-height: 300px;\n",
       "    overflow: auto;\n",
       "  }\n",
       "  table, th, td {\n",
       "    border: 1px solid black;\n",
       "    border-collapse: collapse;\n",
       "  }\n",
       "  th, td {\n",
       "    padding: 5px;\n",
       "  }\n",
       "  th {\n",
       "    text-align: left;\n",
       "  }\n",
       "</style><div class='table-result-container'><table class='table-result'><thead style='background-color: white'><tr><th>col1</th><th>col2</th><th>col3</th><th>col4</th><th>col5</th><th>timestamp</th></tr></thead><tbody><tr><td>I</td><td>1</td><td>2</td><td>3</td><td>4</td><td>2024-02-12 16:24:43.850171</td></tr><tr><td>D</td><td>1</td><td>2</td><td>3</td><td>4</td><td>2024-02-12 16:24:44.851150</td></tr><tr><td>D</td><td>4</td><td>5</td><td>6</td><td>7</td><td>2024-02-12 16:24:45.852206</td></tr><tr><td>u</td><td>8</td><td>9</td><td>10</td><td>12</td><td>2024-02-12 16:24:46.853262</td></tr><tr><td>D</td><td>8</td><td>9</td><td>10</td><td>12</td><td>2024-02-12 16:24:47.854316</td></tr><tr><td>I</td><td>11</td><td>12</td><td>13</td><td>14</td><td>2024-02-12 16:24:48.855368</td></tr><tr><td>D</td><td></td><td></td><td></td><td></td><td>2024-02-12 16:24:49.855798</td></tr></tbody></table></div>"
      ]
     },
     "metadata": {
      "application/vnd.databricks.v1+output": {
       "addedWidgets": {},
       "aggData": [],
       "aggError": "",
       "aggOverflow": false,
       "aggSchema": [],
       "aggSeriesLimitReached": false,
       "aggType": "",
       "arguments": {},
       "columnCustomDisplayInfos": {},
       "data": [
        [
         "I",
         "1",
         "2",
         "3",
         "4",
         "2024-02-12 16:24:43.850171"
        ],
        [
         "D",
         "1",
         "2",
         "3",
         "4",
         "2024-02-12 16:24:44.851150"
        ],
        [
         "D",
         "4",
         "5",
         "6",
         "7",
         "2024-02-12 16:24:45.852206"
        ],
        [
         "u",
         "8",
         "9",
         "10",
         "12",
         "2024-02-12 16:24:46.853262"
        ],
        [
         "D",
         "8",
         "9",
         "10",
         "12",
         "2024-02-12 16:24:47.854316"
        ],
        [
         "I",
         "11",
         "12",
         "13",
         "14",
         "2024-02-12 16:24:48.855368"
        ],
        [
         "D",
         "",
         "",
         "",
         "",
         "2024-02-12 16:24:49.855798"
        ]
       ],
       "datasetInfos": [],
       "dbfsResultPath": null,
       "isJsonSchema": true,
       "metadata": {},
       "overflow": false,
       "plotOptions": {
        "customPlotOptions": {},
        "displayType": "table",
        "pivotAggregation": null,
        "pivotColumns": null,
        "xColumns": null,
        "yColumns": null
       },
       "removedWidgets": [],
       "schema": [
        {
         "metadata": "{}",
         "name": "col1",
         "type": "\"string\""
        },
        {
         "metadata": "{}",
         "name": "col2",
         "type": "\"string\""
        },
        {
         "metadata": "{}",
         "name": "col3",
         "type": "\"string\""
        },
        {
         "metadata": "{}",
         "name": "col4",
         "type": "\"string\""
        },
        {
         "metadata": "{}",
         "name": "col5",
         "type": "\"string\""
        },
        {
         "metadata": "{}",
         "name": "timestamp",
         "type": "\"string\""
        }
       ],
       "type": "table"
      }
     },
     "output_type": "display_data"
    },
    {
     "output_type": "display_data",
     "data": {
      "text/html": [
       "<style scoped>\n",
       "  .table-result-container {\n",
       "    max-height: 300px;\n",
       "    overflow: auto;\n",
       "  }\n",
       "  table, th, td {\n",
       "    border: 1px solid black;\n",
       "    border-collapse: collapse;\n",
       "  }\n",
       "  th, td {\n",
       "    padding: 5px;\n",
       "  }\n",
       "  th {\n",
       "    text-align: left;\n",
       "  }\n",
       "</style><div class='table-result-container'><table class='table-result'><thead style='background-color: white'><tr><th>col1</th><th>col2</th><th>col3</th><th>col4</th><th>col5</th><th>timestamp</th><th>row_id</th></tr></thead><tbody><tr><td>I</td><td>1</td><td>2</td><td>3</td><td>4</td><td>2024-02-12 16:24:43.850171</td><td>1</td></tr><tr><td>D</td><td>1</td><td>2</td><td>3</td><td>4</td><td>2024-02-12 16:24:44.851150</td><td>2</td></tr><tr><td>D</td><td>4</td><td>5</td><td>6</td><td>7</td><td>2024-02-12 16:24:45.852206</td><td>3</td></tr><tr><td>u</td><td>8</td><td>9</td><td>10</td><td>12</td><td>2024-02-12 16:24:46.853262</td><td>4</td></tr><tr><td>D</td><td>8</td><td>9</td><td>10</td><td>12</td><td>2024-02-12 16:24:47.854316</td><td>5</td></tr><tr><td>I</td><td>11</td><td>12</td><td>13</td><td>14</td><td>2024-02-12 16:24:48.855368</td><td>6</td></tr><tr><td>D</td><td></td><td></td><td></td><td></td><td>2024-02-12 16:24:49.855798</td><td>7</td></tr></tbody></table></div>"
      ]
     },
     "metadata": {
      "application/vnd.databricks.v1+output": {
       "addedWidgets": {},
       "aggData": [],
       "aggError": "",
       "aggOverflow": false,
       "aggSchema": [],
       "aggSeriesLimitReached": false,
       "aggType": "",
       "arguments": {},
       "columnCustomDisplayInfos": {},
       "data": [
        [
         "I",
         "1",
         "2",
         "3",
         "4",
         "2024-02-12 16:24:43.850171",
         1
        ],
        [
         "D",
         "1",
         "2",
         "3",
         "4",
         "2024-02-12 16:24:44.851150",
         2
        ],
        [
         "D",
         "4",
         "5",
         "6",
         "7",
         "2024-02-12 16:24:45.852206",
         3
        ],
        [
         "u",
         "8",
         "9",
         "10",
         "12",
         "2024-02-12 16:24:46.853262",
         4
        ],
        [
         "D",
         "8",
         "9",
         "10",
         "12",
         "2024-02-12 16:24:47.854316",
         5
        ],
        [
         "I",
         "11",
         "12",
         "13",
         "14",
         "2024-02-12 16:24:48.855368",
         6
        ],
        [
         "D",
         "",
         "",
         "",
         "",
         "2024-02-12 16:24:49.855798",
         7
        ]
       ],
       "datasetInfos": [],
       "dbfsResultPath": null,
       "isJsonSchema": true,
       "metadata": {},
       "overflow": false,
       "plotOptions": {
        "customPlotOptions": {},
        "displayType": "table",
        "pivotAggregation": null,
        "pivotColumns": null,
        "xColumns": null,
        "yColumns": null
       },
       "removedWidgets": [],
       "schema": [
        {
         "metadata": "{}",
         "name": "col1",
         "type": "\"string\""
        },
        {
         "metadata": "{}",
         "name": "col2",
         "type": "\"string\""
        },
        {
         "metadata": "{}",
         "name": "col3",
         "type": "\"string\""
        },
        {
         "metadata": "{}",
         "name": "col4",
         "type": "\"string\""
        },
        {
         "metadata": "{}",
         "name": "col5",
         "type": "\"string\""
        },
        {
         "metadata": "{}",
         "name": "timestamp",
         "type": "\"string\""
        },
        {
         "metadata": "{}",
         "name": "row_id",
         "type": "\"integer\""
        }
       ],
       "type": "table"
      }
     },
     "output_type": "display_data"
    }
   ],
   "source": [
    "\n",
    "#  the schema for the DataFrame\n",
    "schema = StructType([\n",
    "    StructField(\"col1\", StringType()),\n",
    "    StructField(\"col2\", StringType()),\n",
    "    StructField(\"col3\", StringType()),\n",
    "    StructField(\"col4\", StringType()),\n",
    "    StructField(\"col5\", StringType()),\n",
    "     StructField(\"timestamp\", StringType())\n",
    "])\n",
    "\n",
    "#test data generation\n",
    "import datetime\n",
    "\n",
    "data = [\n",
    "    ('I', '1', '2', '3', '4'),\n",
    "    ('D', '1', '2', '3', '4'),\n",
    "    ('D', '4', '5', '6', '7'),\n",
    "    ('u', '8', '9', '10', '12'),\n",
    "    ('D', '8', '9', '10', '12'),\n",
    "    ('I', '11', '12', '13', '14'),\n",
    "    ('D', '', '', '', '')\n",
    "]\n",
    "import time \n",
    "def tiemfetch():\n",
    "    timestamp = datetime.datetime.now()\n",
    "    time.sleep(1)\n",
    "    return timestamp\n",
    "\n",
    "\n",
    "\n",
    "new_data = [(elem[0], elem[1], elem[2], elem[3], elem[4], str(tiemfetch()) )for elem in data]\n",
    "print(new_data)\n",
    "\n",
    "# incr  DataFrame\n",
    "df_incr = spark.createDataFrame(new_data, schema)\n",
    "\n",
    "df_incr.orderBy(df_incr.timestamp.asc()).display()\n",
    "\n",
    "# Creating a window specification(only for demo purpose to server watermark/identification)\n",
    "window_spec = Window.partitionBy().orderBy(df_incr[\"timestamp\"].asc(),df_incr[\"col1\"].asc())\n",
    "\n",
    "df_incr = df_incr.withColumn(\"row_id\", row_number().over(window_spec))\n",
    "df_incr.display()"
   ]
  },
  {
   "cell_type": "code",
   "execution_count": 0,
   "metadata": {
    "application/vnd.databricks.v1+cell": {
     "cellMetadata": {
      "byteLimit": 2048000,
      "rowLimit": 10000
     },
     "inputWidgets": {},
     "nuid": "b6d3d63a-cb85-4c78-b5f0-b484f9188b33",
     "showTitle": false,
     "title": ""
    }
   },
   "outputs": [],
   "source": [
    "from pyspark.sql.functions import lag, col,lead,when\n",
    "from pyspark.sql.window import Window\n",
    "\n",
    "# Create a new column 'prev_col1' with the value from the previous row in 'col1' column\n",
    "windowSpec = Window.orderBy(col(\"timestamp\"))\n",
    "df_incr1 = df_incr.withColumn(\"prev_col1\", lead(\"col1\").over(windowSpec))\n",
    "\n"
   ]
  },
  {
   "cell_type": "code",
   "execution_count": 0,
   "metadata": {
    "application/vnd.databricks.v1+cell": {
     "cellMetadata": {
      "byteLimit": 2048000,
      "rowLimit": 10000
     },
     "inputWidgets": {},
     "nuid": "1b58b038-9f8b-442e-a5ff-97f12599ae35",
     "showTitle": false,
     "title": ""
    }
   },
   "outputs": [],
   "source": [
    "#null identification since it was said csv file\n",
    "for col_name in df_incr1.dtypes:\n",
    "    if (col_name[1] == 'string' or col_name[1]=='int' or col_name[1]=='date' or col_name[1]=='timestamp'):\n",
    "        df_incr1=df_incr1.withColumn(col_name[0], when(\n",
    "                (col(col_name[0]) == \"\") | (col(col_name[0]) == \" \") | (col(col_name[0]) == '\"\"')| (col(col_name[0]) == 'NULL'), None).otherwise(col(col_name[0])))\n",
    "df_incr1.createOrReplaceTempView(\"inc_view\")\n",
    "\n",
    "#finding rows need to be update\n",
    "row_id_deleted=spark.sql(\"\"\"select  row_id\n",
    "FROM inc_view\n",
    "WHERE col2 IS NULL OR col3 IS NULL OR col4 IS NULL OR col5 IS NULL\"\"\").collect()\n",
    "row_id_deleted=[i[0]-1 for i in row_id_deleted]\n"
   ]
  },
  {
   "cell_type": "code",
   "execution_count": 0,
   "metadata": {
    "application/vnd.databricks.v1+cell": {
     "cellMetadata": {
      "byteLimit": 2048000,
      "rowLimit": 10000
     },
     "inputWidgets": {},
     "nuid": "789f46dd-73f0-4eef-b47a-248177ec63d4",
     "showTitle": false,
     "title": ""
    }
   },
   "outputs": [
    {
     "output_type": "display_data",
     "data": {
      "text/html": [
       "<style scoped>\n",
       "  .table-result-container {\n",
       "    max-height: 300px;\n",
       "    overflow: auto;\n",
       "  }\n",
       "  table, th, td {\n",
       "    border: 1px solid black;\n",
       "    border-collapse: collapse;\n",
       "  }\n",
       "  th, td {\n",
       "    padding: 5px;\n",
       "  }\n",
       "  th {\n",
       "    text-align: left;\n",
       "  }\n",
       "</style><div class='table-result-container'><table class='table-result'><thead style='background-color: white'><tr><th>col1</th><th>col2</th><th>col3</th><th>col4</th><th>col5</th><th>timestamp</th><th>row_id</th><th>prev_col1</th></tr></thead><tbody><tr><td>I</td><td>1</td><td>2</td><td>3</td><td>4</td><td>2024-02-12 16:24:43.850171</td><td>1</td><td>D</td></tr><tr><td>D</td><td>1</td><td>2</td><td>3</td><td>4</td><td>2024-02-12 16:24:44.851150</td><td>2</td><td>D</td></tr><tr><td>D</td><td>4</td><td>5</td><td>6</td><td>7</td><td>2024-02-12 16:24:45.852206</td><td>3</td><td>u</td></tr><tr><td>u</td><td>8</td><td>9</td><td>10</td><td>12</td><td>2024-02-12 16:24:46.853262</td><td>4</td><td>D</td></tr><tr><td>D</td><td>8</td><td>9</td><td>10</td><td>12</td><td>2024-02-12 16:24:47.854316</td><td>5</td><td>I</td></tr><tr><td>D</td><td>11</td><td>12</td><td>13</td><td>14</td><td>2024-02-12 16:24:48.855368</td><td>6</td><td>D</td></tr><tr><td>D</td><td>null</td><td>null</td><td>null</td><td>null</td><td>2024-02-12 16:24:49.855798</td><td>7</td><td>null</td></tr></tbody></table></div>"
      ]
     },
     "metadata": {
      "application/vnd.databricks.v1+output": {
       "addedWidgets": {},
       "aggData": [],
       "aggError": "",
       "aggOverflow": false,
       "aggSchema": [],
       "aggSeriesLimitReached": false,
       "aggType": "",
       "arguments": {},
       "columnCustomDisplayInfos": {},
       "data": [
        [
         "I",
         "1",
         "2",
         "3",
         "4",
         "2024-02-12 16:24:43.850171",
         1,
         "D"
        ],
        [
         "D",
         "1",
         "2",
         "3",
         "4",
         "2024-02-12 16:24:44.851150",
         2,
         "D"
        ],
        [
         "D",
         "4",
         "5",
         "6",
         "7",
         "2024-02-12 16:24:45.852206",
         3,
         "u"
        ],
        [
         "u",
         "8",
         "9",
         "10",
         "12",
         "2024-02-12 16:24:46.853262",
         4,
         "D"
        ],
        [
         "D",
         "8",
         "9",
         "10",
         "12",
         "2024-02-12 16:24:47.854316",
         5,
         "I"
        ],
        [
         "D",
         "11",
         "12",
         "13",
         "14",
         "2024-02-12 16:24:48.855368",
         6,
         "D"
        ],
        [
         "D",
         null,
         null,
         null,
         null,
         "2024-02-12 16:24:49.855798",
         7,
         null
        ]
       ],
       "datasetInfos": [],
       "dbfsResultPath": null,
       "isJsonSchema": true,
       "metadata": {},
       "overflow": false,
       "plotOptions": {
        "customPlotOptions": {},
        "displayType": "table",
        "pivotAggregation": null,
        "pivotColumns": null,
        "xColumns": null,
        "yColumns": null
       },
       "removedWidgets": [],
       "schema": [
        {
         "metadata": "{}",
         "name": "col1",
         "type": "\"string\""
        },
        {
         "metadata": "{}",
         "name": "col2",
         "type": "\"string\""
        },
        {
         "metadata": "{}",
         "name": "col3",
         "type": "\"string\""
        },
        {
         "metadata": "{}",
         "name": "col4",
         "type": "\"string\""
        },
        {
         "metadata": "{}",
         "name": "col5",
         "type": "\"string\""
        },
        {
         "metadata": "{}",
         "name": "timestamp",
         "type": "\"string\""
        },
        {
         "metadata": "{}",
         "name": "row_id",
         "type": "\"integer\""
        },
        {
         "metadata": "{}",
         "name": "prev_col1",
         "type": "\"string\""
        }
       ],
       "type": "table"
      }
     },
     "output_type": "display_data"
    }
   ],
   "source": [
    "\n",
    "# Update col1 with prev_col1 for specific row_id\n",
    "df_incr2 = df_incr1.withColumn(\"col1\", when(col(\"row_id\").isin(row_id_deleted), col(\"prev_col1\")).otherwise(col(\"col1\")))\n",
    "\n",
    "# Display the updated DataFrame\n",
    "df_incr2.display()\n",
    "df_incr2.createOrReplaceTempView(\"incr_view\")\n"
   ]
  },
  {
   "cell_type": "code",
   "execution_count": 0,
   "metadata": {
    "application/vnd.databricks.v1+cell": {
     "cellMetadata": {
      "byteLimit": 2048000,
      "rowLimit": 10000
     },
     "inputWidgets": {},
     "nuid": "9e5df625-9f24-4600-811a-fcec0e4476fe",
     "showTitle": false,
     "title": ""
    }
   },
   "outputs": [
    {
     "output_type": "execute_result",
     "data": {
      "text/plain": [
       "DataFrame[num_affected_rows: bigint, num_updated_rows: bigint, num_deleted_rows: bigint, num_inserted_rows: bigint]"
      ]
     },
     "execution_count": 11,
     "metadata": {},
     "output_type": "execute_result"
    }
   ],
   "source": [
    "source_table_name=\"incr_view\"\n",
    "spark.sql(f\"drop table if exists table_tgt_temp\")\n",
    "spark.sql(\n",
    "            f\"\"\"\n",
    "            CREATE TABLE if not exists  table_tgt_temp (\n",
    "                col1 CHAR(20),\n",
    "                col2 CHAR(20),\n",
    "                col3 CHAR(20),\n",
    "                col4 CHAR(20),\n",
    "                col5 CHAR(20)\n",
    "            )\n",
    "        \"\"\"\n",
    "        )\n",
    "spark.sql(\n",
    "    f\"\"\"\n",
    "    MERGE INTO table_tgt_temp AS tgt\n",
    "    USING (\n",
    "        SELECT col1, col2, col3, col4, col5 from(\n",
    "\n",
    "        select *,row_number() over (partition by col2,col3,col4,col5 order by timestamp desc) as final_rk from {source_table_name} where where col2 IS not NULL and col3 IS not NULL and col4 IS not NULL and col5 IS not NULL )final_view\n",
    "        where final_view.final_rk=1\n",
    "        \n",
    "    ) AS src\n",
    "    ON tgt.col2 = src.col2\n",
    "    AND tgt.col3 = src.col3\n",
    "    AND tgt.col4 = src.col4\n",
    "    AND tgt.col5 = src.col5 \n",
    "    WHEN MATCHED THEN\n",
    "        UPDATE SET tgt.col1 = src.col1\n",
    "    WHEN NOT MATCHED THEN\n",
    "        INSERT (col1, col2, col3, col4, col5)\n",
    "        VALUES (src.col1, src.col2, src.col3, src.col4, src.col5)\n",
    "    \"\"\"\n",
    ")\n"
   ]
  },
  {
   "cell_type": "code",
   "execution_count": 0,
   "metadata": {
    "application/vnd.databricks.v1+cell": {
     "cellMetadata": {
      "byteLimit": 2048000,
      "implicitDf": true,
      "rowLimit": 10000
     },
     "inputWidgets": {},
     "nuid": "184848da-e111-42c6-97c7-dab2b2eef70d",
     "showTitle": false,
     "title": ""
    }
   },
   "outputs": [
    {
     "output_type": "display_data",
     "data": {
      "text/html": [
       "<style scoped>\n",
       "  .table-result-container {\n",
       "    max-height: 300px;\n",
       "    overflow: auto;\n",
       "  }\n",
       "  table, th, td {\n",
       "    border: 1px solid black;\n",
       "    border-collapse: collapse;\n",
       "  }\n",
       "  th, td {\n",
       "    padding: 5px;\n",
       "  }\n",
       "  th {\n",
       "    text-align: left;\n",
       "  }\n",
       "</style><div class='table-result-container'><table class='table-result'><thead style='background-color: white'><tr><th>col1</th><th>col2</th><th>col3</th><th>col4</th><th>col5</th></tr></thead><tbody><tr><td>D</td><td>1</td><td>2</td><td>3</td><td>4</td></tr><tr><td>D</td><td>11</td><td>12</td><td>13</td><td>14</td></tr><tr><td>D</td><td>4</td><td>5</td><td>6</td><td>7</td></tr><tr><td>D</td><td>8</td><td>9</td><td>10</td><td>12</td></tr></tbody></table></div>"
      ]
     },
     "metadata": {
      "application/vnd.databricks.v1+output": {
       "addedWidgets": {},
       "aggData": [],
       "aggError": "",
       "aggOverflow": false,
       "aggSchema": [],
       "aggSeriesLimitReached": false,
       "aggType": "",
       "arguments": {},
       "columnCustomDisplayInfos": {},
       "data": [
        [
         "D",
         "1",
         "2",
         "3",
         "4"
        ],
        [
         "D",
         "11",
         "12",
         "13",
         "14"
        ],
        [
         "D",
         "4",
         "5",
         "6",
         "7"
        ],
        [
         "D",
         "8",
         "9",
         "10",
         "12"
        ]
       ],
       "datasetInfos": [],
       "dbfsResultPath": null,
       "isJsonSchema": true,
       "metadata": {
        "dataframeName": "_sqldf",
        "executionCount": 12
       },
       "overflow": false,
       "plotOptions": {
        "customPlotOptions": {},
        "displayType": "table",
        "pivotAggregation": null,
        "pivotColumns": null,
        "xColumns": null,
        "yColumns": null
       },
       "removedWidgets": [],
       "schema": [
        {
         "metadata": "{\"__CHAR_VARCHAR_TYPE_STRING\":\"char(20)\"}",
         "name": "col1",
         "type": "\"string\""
        },
        {
         "metadata": "{\"__CHAR_VARCHAR_TYPE_STRING\":\"char(20)\"}",
         "name": "col2",
         "type": "\"string\""
        },
        {
         "metadata": "{\"__CHAR_VARCHAR_TYPE_STRING\":\"char(20)\"}",
         "name": "col3",
         "type": "\"string\""
        },
        {
         "metadata": "{\"__CHAR_VARCHAR_TYPE_STRING\":\"char(20)\"}",
         "name": "col4",
         "type": "\"string\""
        },
        {
         "metadata": "{\"__CHAR_VARCHAR_TYPE_STRING\":\"char(20)\"}",
         "name": "col5",
         "type": "\"string\""
        }
       ],
       "type": "table"
      }
     },
     "output_type": "display_data"
    }
   ],
   "source": [
    "%sql\n",
    "select * from table_tgt_temp"
   ]
  },
  {
   "cell_type": "code",
   "execution_count": 0,
   "metadata": {
    "application/vnd.databricks.v1+cell": {
     "cellMetadata": {
      "byteLimit": 2048000,
      "implicitDf": true,
      "rowLimit": 10000
     },
     "inputWidgets": {},
     "nuid": "e6c9f618-ff3f-4539-a483-5b251def29c3",
     "showTitle": false,
     "title": ""
    }
   },
   "outputs": [
    {
     "output_type": "display_data",
     "data": {
      "text/html": [
       "<style scoped>\n",
       "  .table-result-container {\n",
       "    max-height: 300px;\n",
       "    overflow: auto;\n",
       "  }\n",
       "  table, th, td {\n",
       "    border: 1px solid black;\n",
       "    border-collapse: collapse;\n",
       "  }\n",
       "  th, td {\n",
       "    padding: 5px;\n",
       "  }\n",
       "  th {\n",
       "    text-align: left;\n",
       "  }\n",
       "</style><div class='table-result-container'><table class='table-result'><thead style='background-color: white'><tr><th>col1</th><th>col2</th><th>col3</th><th>col4</th><th>col5</th><th>timestamp</th><th>row_id</th><th>prev_col1</th><th>final_rk</th></tr></thead><tbody><tr><td>D</td><td>null</td><td>null</td><td>null</td><td>null</td><td>2024-02-12 16:24:49.855798</td><td>7</td><td>null</td><td>1</td></tr><tr><td>D</td><td>1</td><td>2</td><td>3</td><td>4</td><td>2024-02-12 16:24:44.851150</td><td>2</td><td>D</td><td>1</td></tr><tr><td>I</td><td>1</td><td>2</td><td>3</td><td>4</td><td>2024-02-12 16:24:43.850171</td><td>1</td><td>D</td><td>2</td></tr><tr><td>D</td><td>11</td><td>12</td><td>13</td><td>14</td><td>2024-02-12 16:24:48.855368</td><td>6</td><td>D</td><td>1</td></tr><tr><td>D</td><td>4</td><td>5</td><td>6</td><td>7</td><td>2024-02-12 16:24:45.852206</td><td>3</td><td>u</td><td>1</td></tr><tr><td>D</td><td>8</td><td>9</td><td>10</td><td>12</td><td>2024-02-12 16:24:47.854316</td><td>5</td><td>I</td><td>1</td></tr><tr><td>u</td><td>8</td><td>9</td><td>10</td><td>12</td><td>2024-02-12 16:24:46.853262</td><td>4</td><td>D</td><td>2</td></tr></tbody></table></div>"
      ]
     },
     "metadata": {
      "application/vnd.databricks.v1+output": {
       "addedWidgets": {},
       "aggData": [],
       "aggError": "",
       "aggOverflow": false,
       "aggSchema": [],
       "aggSeriesLimitReached": false,
       "aggType": "",
       "arguments": {},
       "columnCustomDisplayInfos": {},
       "data": [
        [
         "D",
         null,
         null,
         null,
         null,
         "2024-02-12 16:24:49.855798",
         7,
         null,
         1
        ],
        [
         "D",
         "1",
         "2",
         "3",
         "4",
         "2024-02-12 16:24:44.851150",
         2,
         "D",
         1
        ],
        [
         "I",
         "1",
         "2",
         "3",
         "4",
         "2024-02-12 16:24:43.850171",
         1,
         "D",
         2
        ],
        [
         "D",
         "11",
         "12",
         "13",
         "14",
         "2024-02-12 16:24:48.855368",
         6,
         "D",
         1
        ],
        [
         "D",
         "4",
         "5",
         "6",
         "7",
         "2024-02-12 16:24:45.852206",
         3,
         "u",
         1
        ],
        [
         "D",
         "8",
         "9",
         "10",
         "12",
         "2024-02-12 16:24:47.854316",
         5,
         "I",
         1
        ],
        [
         "u",
         "8",
         "9",
         "10",
         "12",
         "2024-02-12 16:24:46.853262",
         4,
         "D",
         2
        ]
       ],
       "datasetInfos": [],
       "dbfsResultPath": null,
       "isJsonSchema": true,
       "metadata": {
        "dataframeName": "_sqldf",
        "executionCount": 9
       },
       "overflow": false,
       "plotOptions": {
        "customPlotOptions": {},
        "displayType": "table",
        "pivotAggregation": null,
        "pivotColumns": null,
        "xColumns": null,
        "yColumns": null
       },
       "removedWidgets": [],
       "schema": [
        {
         "metadata": "{}",
         "name": "col1",
         "type": "\"string\""
        },
        {
         "metadata": "{}",
         "name": "col2",
         "type": "\"string\""
        },
        {
         "metadata": "{}",
         "name": "col3",
         "type": "\"string\""
        },
        {
         "metadata": "{}",
         "name": "col4",
         "type": "\"string\""
        },
        {
         "metadata": "{}",
         "name": "col5",
         "type": "\"string\""
        },
        {
         "metadata": "{}",
         "name": "timestamp",
         "type": "\"string\""
        },
        {
         "metadata": "{}",
         "name": "row_id",
         "type": "\"integer\""
        },
        {
         "metadata": "{}",
         "name": "prev_col1",
         "type": "\"string\""
        },
        {
         "metadata": "{}",
         "name": "final_rk",
         "type": "\"integer\""
        }
       ],
       "type": "table"
      }
     },
     "output_type": "display_data"
    }
   ],
   "source": [
    "%sql\n",
    "select *,row_number() over (partition by col2,col3,col4,col5 order by timestamp desc) as final_rk from incr_view"
   ]
  },
  {
   "cell_type": "code",
   "execution_count": 0,
   "metadata": {
    "application/vnd.databricks.v1+cell": {
     "cellMetadata": {},
     "inputWidgets": {},
     "nuid": "e0b46feb-93ec-4fdc-9eef-994620da2118",
     "showTitle": false,
     "title": ""
    }
   },
   "outputs": [],
   "source": []
  }
 ],
 "metadata": {
  "application/vnd.databricks.v1+notebook": {
   "dashboards": [],
   "language": "python",
   "notebookMetadata": {
    "mostRecentlyExecutedCommandWithImplicitDF": {
     "commandId": 227475497036201,
     "dataframes": [
      "_sqldf"
     ]
    },
    "pythonIndentUnit": 4
   },
   "notebookName": "SCD_space_issue",
   "widgets": {}
  }
 },
 "nbformat": 4,
 "nbformat_minor": 0
}
