{
 "cells": [
  {
   "cell_type": "markdown",
   "metadata": {
    "application/vnd.databricks.v1+cell": {
     "cellMetadata": {},
     "inputWidgets": {},
     "nuid": "8ece52f4-63cb-4273-837a-dac94b31d442",
     "showTitle": false,
     "title": ""
    }
   },
   "source": [
    "###SCD"
   ]
  },
  {
   "cell_type": "code",
   "execution_count": 0,
   "metadata": {
    "application/vnd.databricks.v1+cell": {
     "cellMetadata": {
      "byteLimit": 2048000,
      "rowLimit": 10000
     },
     "inputWidgets": {},
     "nuid": "ff79ea1b-73bc-4eea-a6e4-269020bba2db",
     "showTitle": false,
     "title": ""
    }
   },
   "outputs": [],
   "source": [
    "from pyspark.sql.types import StructType, StringType, StructField\n",
    "from pyspark.sql.functions import row_number\n",
    "from pyspark.sql.window import Window\n"
   ]
  },
  {
   "cell_type": "code",
   "execution_count": 0,
   "metadata": {
    "application/vnd.databricks.v1+cell": {
     "cellMetadata": {
      "byteLimit": 2048000,
      "implicitDf": true,
      "rowLimit": 10000
     },
     "inputWidgets": {},
     "nuid": "faa15f37-54a4-41d8-a6f5-b3cfe661f3b6",
     "showTitle": false,
     "title": ""
    }
   },
   "outputs": [
    {
     "output_type": "display_data",
     "data": {
      "text/html": [
       "<style scoped>\n",
       "  .table-result-container {\n",
       "    max-height: 300px;\n",
       "    overflow: auto;\n",
       "  }\n",
       "  table, th, td {\n",
       "    border: 1px solid black;\n",
       "    border-collapse: collapse;\n",
       "  }\n",
       "  th, td {\n",
       "    padding: 5px;\n",
       "  }\n",
       "  th {\n",
       "    text-align: left;\n",
       "  }\n",
       "</style><div class='table-result-container'><table class='table-result'><thead style='background-color: white'><tr></tr></thead><tbody></tbody></table></div>"
      ]
     },
     "metadata": {
      "application/vnd.databricks.v1+output": {
       "addedWidgets": {},
       "aggData": [],
       "aggError": "",
       "aggOverflow": false,
       "aggSchema": [],
       "aggSeriesLimitReached": false,
       "aggType": "",
       "arguments": {},
       "columnCustomDisplayInfos": {},
       "data": [],
       "datasetInfos": [],
       "dbfsResultPath": null,
       "isJsonSchema": true,
       "metadata": {
        "dataframeName": null
       },
       "overflow": false,
       "plotOptions": {
        "customPlotOptions": {},
        "displayType": "table",
        "pivotAggregation": null,
        "pivotColumns": null,
        "xColumns": null,
        "yColumns": null
       },
       "removedWidgets": [],
       "schema": [],
       "type": "table"
      }
     },
     "output_type": "display_data"
    }
   ],
   "source": [
    "# %sql\n",
    "# drop table if exists table_tgt"
   ]
  },
  {
   "cell_type": "markdown",
   "metadata": {
    "application/vnd.databricks.v1+cell": {
     "cellMetadata": {},
     "inputWidgets": {},
     "nuid": "a0ae4f11-c966-493f-9f60-8ba2c08096af",
     "showTitle": false,
     "title": ""
    }
   },
   "source": [
    "#### soruce dataframe"
   ]
  },
  {
   "cell_type": "code",
   "execution_count": 0,
   "metadata": {
    "application/vnd.databricks.v1+cell": {
     "cellMetadata": {
      "byteLimit": 2048000,
      "rowLimit": 10000
     },
     "inputWidgets": {},
     "nuid": "a6f4349c-89b6-44af-99ea-3f4538f0e3d4",
     "showTitle": false,
     "title": ""
    }
   },
   "outputs": [
    {
     "output_type": "display_data",
     "data": {
      "text/html": [
       "<style scoped>\n",
       "  .table-result-container {\n",
       "    max-height: 300px;\n",
       "    overflow: auto;\n",
       "  }\n",
       "  table, th, td {\n",
       "    border: 1px solid black;\n",
       "    border-collapse: collapse;\n",
       "  }\n",
       "  th, td {\n",
       "    padding: 5px;\n",
       "  }\n",
       "  th {\n",
       "    text-align: left;\n",
       "  }\n",
       "</style><div class='table-result-container'><table class='table-result'><thead style='background-color: white'><tr><th>col1</th><th>col2</th><th>col3</th><th>col4</th><th>col5</th></tr></thead><tbody><tr><td>I</td><td>1</td><td>2</td><td>3</td><td>4</td></tr><tr><td>D</td><td>1</td><td>2</td><td>3</td><td>4</td></tr><tr><td>D</td><td>4</td><td>5</td><td>6</td><td>7</td></tr><tr><td>u</td><td>8</td><td>9</td><td>10</td><td>12</td></tr><tr><td>D</td><td>8</td><td>9</td><td>10</td><td>12</td></tr><tr><td>I</td><td>11</td><td>12</td><td>13</td><td>14</td></tr></tbody></table></div>"
      ]
     },
     "metadata": {
      "application/vnd.databricks.v1+output": {
       "addedWidgets": {},
       "aggData": [],
       "aggError": "",
       "aggOverflow": false,
       "aggSchema": [],
       "aggSeriesLimitReached": false,
       "aggType": "",
       "arguments": {},
       "columnCustomDisplayInfos": {},
       "data": [
        [
         "I",
         "1",
         "2",
         "3",
         "4"
        ],
        [
         "D",
         "1",
         "2",
         "3",
         "4"
        ],
        [
         "D",
         "4",
         "5",
         "6",
         "7"
        ],
        [
         "u",
         "8",
         "9",
         "10",
         "12"
        ],
        [
         "D",
         "8",
         "9",
         "10",
         "12"
        ],
        [
         "I",
         "11",
         "12",
         "13",
         "14"
        ]
       ],
       "datasetInfos": [],
       "dbfsResultPath": null,
       "isJsonSchema": true,
       "metadata": {},
       "overflow": false,
       "plotOptions": {
        "customPlotOptions": {},
        "displayType": "table",
        "pivotAggregation": null,
        "pivotColumns": null,
        "xColumns": null,
        "yColumns": null
       },
       "removedWidgets": [],
       "schema": [
        {
         "metadata": "{}",
         "name": "col1",
         "type": "\"string\""
        },
        {
         "metadata": "{}",
         "name": "col2",
         "type": "\"string\""
        },
        {
         "metadata": "{}",
         "name": "col3",
         "type": "\"string\""
        },
        {
         "metadata": "{}",
         "name": "col4",
         "type": "\"string\""
        },
        {
         "metadata": "{}",
         "name": "col5",
         "type": "\"string\""
        }
       ],
       "type": "table"
      }
     },
     "output_type": "display_data"
    },
    {
     "output_type": "display_data",
     "data": {
      "text/html": [
       "<style scoped>\n",
       "  .table-result-container {\n",
       "    max-height: 300px;\n",
       "    overflow: auto;\n",
       "  }\n",
       "  table, th, td {\n",
       "    border: 1px solid black;\n",
       "    border-collapse: collapse;\n",
       "  }\n",
       "  th, td {\n",
       "    padding: 5px;\n",
       "  }\n",
       "  th {\n",
       "    text-align: left;\n",
       "  }\n",
       "</style><div class='table-result-container'><table class='table-result'><thead style='background-color: white'><tr><th>col1</th><th>col2</th><th>col3</th><th>col4</th><th>col5</th><th>row_id</th></tr></thead><tbody><tr><td>D</td><td>1</td><td>2</td><td>3</td><td>4</td><td>1</td></tr><tr><td>I</td><td>1</td><td>2</td><td>3</td><td>4</td><td>2</td></tr><tr><td>I</td><td>11</td><td>12</td><td>13</td><td>14</td><td>1</td></tr><tr><td>D</td><td>4</td><td>5</td><td>6</td><td>7</td><td>1</td></tr><tr><td>D</td><td>8</td><td>9</td><td>10</td><td>12</td><td>1</td></tr><tr><td>u</td><td>8</td><td>9</td><td>10</td><td>12</td><td>2</td></tr></tbody></table></div>"
      ]
     },
     "metadata": {
      "application/vnd.databricks.v1+output": {
       "addedWidgets": {},
       "aggData": [],
       "aggError": "",
       "aggOverflow": false,
       "aggSchema": [],
       "aggSeriesLimitReached": false,
       "aggType": "",
       "arguments": {},
       "columnCustomDisplayInfos": {},
       "data": [
        [
         "D",
         "1",
         "2",
         "3",
         "4",
         1
        ],
        [
         "I",
         "1",
         "2",
         "3",
         "4",
         2
        ],
        [
         "I",
         "11",
         "12",
         "13",
         "14",
         1
        ],
        [
         "D",
         "4",
         "5",
         "6",
         "7",
         1
        ],
        [
         "D",
         "8",
         "9",
         "10",
         "12",
         1
        ],
        [
         "u",
         "8",
         "9",
         "10",
         "12",
         2
        ]
       ],
       "datasetInfos": [],
       "dbfsResultPath": null,
       "isJsonSchema": true,
       "metadata": {},
       "overflow": false,
       "plotOptions": {
        "customPlotOptions": {},
        "displayType": "table",
        "pivotAggregation": null,
        "pivotColumns": null,
        "xColumns": null,
        "yColumns": null
       },
       "removedWidgets": [],
       "schema": [
        {
         "metadata": "{}",
         "name": "col1",
         "type": "\"string\""
        },
        {
         "metadata": "{}",
         "name": "col2",
         "type": "\"string\""
        },
        {
         "metadata": "{}",
         "name": "col3",
         "type": "\"string\""
        },
        {
         "metadata": "{}",
         "name": "col4",
         "type": "\"string\""
        },
        {
         "metadata": "{}",
         "name": "col5",
         "type": "\"string\""
        },
        {
         "metadata": "{}",
         "name": "row_id",
         "type": "\"integer\""
        }
       ],
       "type": "table"
      }
     },
     "output_type": "display_data"
    }
   ],
   "source": [
    "\n",
    "#  the schema for the DataFrame\n",
    "schema = StructType([\n",
    "    StructField(\"col1\", StringType()),\n",
    "    StructField(\"col2\", StringType()),\n",
    "    StructField(\"col3\", StringType()),\n",
    "    StructField(\"col4\", StringType()),\n",
    "    StructField(\"col5\", StringType())\n",
    "])\n",
    "\n",
    "#  data tuple\n",
    "data = [\n",
    "    ('I','1','2','3','4'),\n",
    "    ('D', '1', '2', '3', '4'),\n",
    "    ('D', '4', '5', '6', '7'),\n",
    "    ('u','8','9','10','12'),\n",
    "    ('D','8','9','10','12'),\n",
    "    ('I','11','12','13','14')\n",
    "]\n",
    "\n",
    "# incr  DataFrame\n",
    "df_incr = spark.createDataFrame(data, schema)\n",
    "\n",
    "# Display the DataFrame\n",
    "df_incr.display()\n",
    "\n",
    "\n",
    "# Creating a window specification(only for demo purpose to server watermark/identification)\n",
    "window_spec = Window.partitionBy(\"col2\", \"col3\", \"col4\", \"col5\").orderBy(df_incr[\"col1\"].asc())\n",
    "\n",
    "df_incr = df_incr.withColumn(\"row_id\", row_number().over(window_spec))\n",
    "df_incr.createOrReplaceTempView(\"inc_view\")\n",
    "df_incr.display()"
   ]
  },
  {
   "cell_type": "markdown",
   "metadata": {
    "application/vnd.databricks.v1+cell": {
     "cellMetadata": {},
     "inputWidgets": {},
     "nuid": "b4eb6e2f-6c43-43b3-b174-efa1373c969d",
     "showTitle": false,
     "title": ""
    }
   },
   "source": [
    "#### approach 1:insert records with  id's with row number 1 (wont check upsert)\n"
   ]
  },
  {
   "cell_type": "code",
   "execution_count": 0,
   "metadata": {
    "application/vnd.databricks.v1+cell": {
     "cellMetadata": {
      "byteLimit": 2048000,
      "rowLimit": 10000
     },
     "inputWidgets": {},
     "nuid": "0d948fc3-c9ab-445d-9a36-de3bdbf5f656",
     "showTitle": false,
     "title": ""
    }
   },
   "outputs": [
    {
     "output_type": "stream",
     "name": "stdout",
     "output_type": "stream",
     "text": [
      "final Output dataframe\n"
     ]
    },
    {
     "output_type": "display_data",
     "data": {
      "text/html": [
       "<style scoped>\n",
       "  .table-result-container {\n",
       "    max-height: 300px;\n",
       "    overflow: auto;\n",
       "  }\n",
       "  table, th, td {\n",
       "    border: 1px solid black;\n",
       "    border-collapse: collapse;\n",
       "  }\n",
       "  th, td {\n",
       "    padding: 5px;\n",
       "  }\n",
       "  th {\n",
       "    text-align: left;\n",
       "  }\n",
       "</style><div class='table-result-container'><table class='table-result'><thead style='background-color: white'><tr><th>col1</th><th>col2</th><th>col3</th><th>col4</th><th>col5</th></tr></thead><tbody><tr><td>D</td><td>1</td><td>2</td><td>3</td><td>4</td></tr><tr><td>I</td><td>11</td><td>12</td><td>13</td><td>14</td></tr><tr><td>D</td><td>4</td><td>5</td><td>6</td><td>7</td></tr><tr><td>D</td><td>8</td><td>9</td><td>10</td><td>12</td></tr></tbody></table></div>"
      ]
     },
     "metadata": {
      "application/vnd.databricks.v1+output": {
       "addedWidgets": {},
       "aggData": [],
       "aggError": "",
       "aggOverflow": false,
       "aggSchema": [],
       "aggSeriesLimitReached": false,
       "aggType": "",
       "arguments": {},
       "columnCustomDisplayInfos": {},
       "data": [
        [
         "D",
         "1",
         "2",
         "3",
         "4"
        ],
        [
         "I",
         "11",
         "12",
         "13",
         "14"
        ],
        [
         "D",
         "4",
         "5",
         "6",
         "7"
        ],
        [
         "D",
         "8",
         "9",
         "10",
         "12"
        ]
       ],
       "datasetInfos": [],
       "dbfsResultPath": null,
       "isJsonSchema": true,
       "metadata": {},
       "overflow": false,
       "plotOptions": {
        "customPlotOptions": {},
        "displayType": "table",
        "pivotAggregation": null,
        "pivotColumns": null,
        "xColumns": null,
        "yColumns": null
       },
       "removedWidgets": [],
       "schema": [
        {
         "metadata": "{\"__CHAR_VARCHAR_TYPE_STRING\":\"char(20)\"}",
         "name": "col1",
         "type": "\"string\""
        },
        {
         "metadata": "{\"__CHAR_VARCHAR_TYPE_STRING\":\"char(20)\"}",
         "name": "col2",
         "type": "\"string\""
        },
        {
         "metadata": "{\"__CHAR_VARCHAR_TYPE_STRING\":\"char(20)\"}",
         "name": "col3",
         "type": "\"string\""
        },
        {
         "metadata": "{\"__CHAR_VARCHAR_TYPE_STRING\":\"char(20)\"}",
         "name": "col4",
         "type": "\"string\""
        },
        {
         "metadata": "{\"__CHAR_VARCHAR_TYPE_STRING\":\"char(20)\"}",
         "name": "col5",
         "type": "\"string\""
        }
       ],
       "type": "table"
      }
     },
     "output_type": "display_data"
    }
   ],
   "source": [
    "target_table_name = \"table_tgt\"\n",
    "source_table_name = \"inc_view\"\n",
    "spark.sql(\n",
    "            f\"\"\"\n",
    "            CREATE TABLE if not exists  {target_table_name} (\n",
    "                col1 CHAR(20),\n",
    "                col2 CHAR(20),\n",
    "                col3 CHAR(20),\n",
    "                col4 CHAR(20),\n",
    "                col5 CHAR(20)\n",
    "            )\n",
    "        \"\"\"\n",
    "        )\n",
    "spark.sql(f\"\"\"\n",
    "    INSERT INTO {target_table_name}\n",
    "    SELECT  * EXCEPT(row_id)\n",
    "    FROM {source_table_name}\n",
    "    WHERE row_id = 1\n",
    "\"\"\")\n",
    "print(\"final Output dataframe\")\n",
    "spark.sql(f\"\"\"select * from {target_table_name}\"\"\").display()"
   ]
  },
  {
   "cell_type": "markdown",
   "metadata": {
    "application/vnd.databricks.v1+cell": {
     "cellMetadata": {},
     "inputWidgets": {},
     "nuid": "849d1069-dbcb-4fe1-b405-c38f297227be",
     "showTitle": false,
     "title": ""
    }
   },
   "source": [
    "#### approach 2:using row_id to distinguish order of insertion and upsert is happening"
   ]
  },
  {
   "cell_type": "code",
   "execution_count": 0,
   "metadata": {
    "application/vnd.databricks.v1+cell": {
     "cellMetadata": {
      "byteLimit": 2048000,
      "implicitDf": true,
      "rowLimit": 10000
     },
     "inputWidgets": {},
     "nuid": "bcdc319e-8eed-48f9-8453-11d6804d1210",
     "showTitle": false,
     "title": ""
    }
   },
   "outputs": [
    {
     "output_type": "execute_result",
     "data": {
      "text/plain": [
       "DataFrame[num_affected_rows: bigint, num_updated_rows: bigint, num_deleted_rows: bigint, num_inserted_rows: bigint]"
      ]
     },
     "execution_count": 36,
     "metadata": {},
     "output_type": "execute_result"
    }
   ],
   "source": [
    "source_table_name=\"inc_view\"\n",
    "spark.sql(\n",
    "    f\"\"\"\n",
    "    MERGE INTO table_tgt_temp AS tgt\n",
    "    USING (\n",
    "        SELECT col1, col2, col3, col4, col5,row_id\n",
    "        FROM {source_table_name} where row_id=1\n",
    "    ) AS src\n",
    "    ON tgt.col2 = src.col2\n",
    "    AND tgt.col3 = src.col3\n",
    "    AND tgt.col4 = src.col4\n",
    "    AND tgt.col5 = src.col5 \n",
    "    WHEN MATCHED THEN\n",
    "        UPDATE SET tgt.col1 = src.col1\n",
    "    WHEN NOT MATCHED THEN\n",
    "        INSERT (col1, col2, col3, col4, col5)\n",
    "        VALUES (src.col1, src.col2, src.col3, src.col4, src.col5)\n",
    "    \"\"\"\n",
    ")\n"
   ]
  },
  {
   "cell_type": "code",
   "execution_count": 0,
   "metadata": {
    "application/vnd.databricks.v1+cell": {
     "cellMetadata": {
      "byteLimit": 2048000,
      "implicitDf": true,
      "rowLimit": 10000
     },
     "inputWidgets": {},
     "nuid": "98947cd7-e47d-49fe-b89b-2bf47ed6ee41",
     "showTitle": false,
     "title": ""
    }
   },
   "outputs": [
    {
     "output_type": "display_data",
     "data": {
      "text/html": [
       "<style scoped>\n",
       "  .table-result-container {\n",
       "    max-height: 300px;\n",
       "    overflow: auto;\n",
       "  }\n",
       "  table, th, td {\n",
       "    border: 1px solid black;\n",
       "    border-collapse: collapse;\n",
       "  }\n",
       "  th, td {\n",
       "    padding: 5px;\n",
       "  }\n",
       "  th {\n",
       "    text-align: left;\n",
       "  }\n",
       "</style><div class='table-result-container'><table class='table-result'><thead style='background-color: white'><tr><th>col1</th><th>col2</th><th>col3</th><th>col4</th><th>col5</th></tr></thead><tbody><tr><td>D</td><td>1</td><td>2</td><td>3</td><td>4</td></tr><tr><td>I</td><td>11</td><td>12</td><td>13</td><td>14</td></tr><tr><td>D</td><td>4</td><td>5</td><td>6</td><td>7</td></tr><tr><td>D</td><td>8</td><td>9</td><td>10</td><td>12</td></tr></tbody></table></div>"
      ]
     },
     "metadata": {
      "application/vnd.databricks.v1+output": {
       "addedWidgets": {},
       "aggData": [],
       "aggError": "",
       "aggOverflow": false,
       "aggSchema": [],
       "aggSeriesLimitReached": false,
       "aggType": "",
       "arguments": {},
       "columnCustomDisplayInfos": {},
       "data": [
        [
         "D",
         "1",
         "2",
         "3",
         "4"
        ],
        [
         "I",
         "11",
         "12",
         "13",
         "14"
        ],
        [
         "D",
         "4",
         "5",
         "6",
         "7"
        ],
        [
         "D",
         "8",
         "9",
         "10",
         "12"
        ]
       ],
       "datasetInfos": [],
       "dbfsResultPath": null,
       "isJsonSchema": true,
       "metadata": {
        "dataframeName": "_sqldf",
        "executionCount": 37
       },
       "overflow": false,
       "plotOptions": {
        "customPlotOptions": {},
        "displayType": "table",
        "pivotAggregation": null,
        "pivotColumns": null,
        "xColumns": null,
        "yColumns": null
       },
       "removedWidgets": [],
       "schema": [
        {
         "metadata": "{\"__CHAR_VARCHAR_TYPE_STRING\":\"char(20)\"}",
         "name": "col1",
         "type": "\"string\""
        },
        {
         "metadata": "{\"__CHAR_VARCHAR_TYPE_STRING\":\"char(20)\"}",
         "name": "col2",
         "type": "\"string\""
        },
        {
         "metadata": "{\"__CHAR_VARCHAR_TYPE_STRING\":\"char(20)\"}",
         "name": "col3",
         "type": "\"string\""
        },
        {
         "metadata": "{\"__CHAR_VARCHAR_TYPE_STRING\":\"char(20)\"}",
         "name": "col4",
         "type": "\"string\""
        },
        {
         "metadata": "{\"__CHAR_VARCHAR_TYPE_STRING\":\"char(20)\"}",
         "name": "col5",
         "type": "\"string\""
        }
       ],
       "type": "table"
      }
     },
     "output_type": "display_data"
    }
   ],
   "source": [
    "%sql\n",
    "select * from table_tgt_temp"
   ]
  }
 ],
 "metadata": {
  "application/vnd.databricks.v1+notebook": {
   "dashboards": [],
   "language": "python",
   "notebookMetadata": {
    "mostRecentlyExecutedCommandWithImplicitDF": {
     "commandId": 2776927924410706,
     "dataframes": [
      "_sqldf"
     ]
    },
    "pythonIndentUnit": 4
   },
   "notebookName": "SCD_tuned",
   "widgets": {}
  }
 },
 "nbformat": 4,
 "nbformat_minor": 0
}
